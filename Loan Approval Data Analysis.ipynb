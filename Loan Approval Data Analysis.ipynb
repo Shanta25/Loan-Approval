{
  "cells": [
    {
      "cell_type": "code",
      "execution_count": 1,
      "id": "d5f55da3",
      "metadata": {
        "id": "d5f55da3"
      },
      "outputs": [],
      "source": [
        "import numpy as np\n",
        "import pandas as pd\n",
        "import seaborn as sns\n",
        "import matplotlib.pyplot as plt\n",
        "%matplotlib inline\n",
        "import warnings\n",
        "warnings.filterwarnings(\"ignore\")"
      ]
    },
    {
      "cell_type": "code",
      "execution_count": 3,
      "id": "6363bb68",
      "metadata": {
        "colab": {
          "base_uri": "https://localhost:8080/",
          "height": 338
        },
        "id": "6363bb68",
        "outputId": "981254a2-e371-4760-96d4-6f6a17461b9a"
      },
      "outputs": [
        {
          "output_type": "error",
          "ename": "FileNotFoundError",
          "evalue": "ignored",
          "traceback": [
            "\u001b[0;31m---------------------------------------------------------------------------\u001b[0m",
            "\u001b[0;31mFileNotFoundError\u001b[0m                         Traceback (most recent call last)",
            "\u001b[0;32m<ipython-input-3-6722800ca60e>\u001b[0m in \u001b[0;36m<cell line: 1>\u001b[0;34m()\u001b[0m\n\u001b[0;32m----> 1\u001b[0;31m \u001b[0mtrain\u001b[0m\u001b[0;34m=\u001b[0m\u001b[0mpd\u001b[0m\u001b[0;34m.\u001b[0m\u001b[0mread_csv\u001b[0m\u001b[0;34m(\u001b[0m\u001b[0;34m\"C:\\\\Users\\\\shanta\\\\Downloads\\\\train.csv\"\u001b[0m\u001b[0;34m)\u001b[0m\u001b[0;34m\u001b[0m\u001b[0;34m\u001b[0m\u001b[0m\n\u001b[0m\u001b[1;32m      2\u001b[0m \u001b[0mtest\u001b[0m\u001b[0;34m=\u001b[0m\u001b[0mpd\u001b[0m\u001b[0;34m.\u001b[0m\u001b[0mread_csv\u001b[0m\u001b[0;34m(\u001b[0m\u001b[0;34m\"C:\\\\Users\\\\shanta\\\\Downloads\\\\test.csv\"\u001b[0m\u001b[0;34m)\u001b[0m\u001b[0;34m\u001b[0m\u001b[0;34m\u001b[0m\u001b[0m\n",
            "\u001b[0;32m/usr/local/lib/python3.10/dist-packages/pandas/util/_decorators.py\u001b[0m in \u001b[0;36mwrapper\u001b[0;34m(*args, **kwargs)\u001b[0m\n\u001b[1;32m    209\u001b[0m                 \u001b[0;32melse\u001b[0m\u001b[0;34m:\u001b[0m\u001b[0;34m\u001b[0m\u001b[0;34m\u001b[0m\u001b[0m\n\u001b[1;32m    210\u001b[0m                     \u001b[0mkwargs\u001b[0m\u001b[0;34m[\u001b[0m\u001b[0mnew_arg_name\u001b[0m\u001b[0;34m]\u001b[0m \u001b[0;34m=\u001b[0m \u001b[0mnew_arg_value\u001b[0m\u001b[0;34m\u001b[0m\u001b[0;34m\u001b[0m\u001b[0m\n\u001b[0;32m--> 211\u001b[0;31m             \u001b[0;32mreturn\u001b[0m \u001b[0mfunc\u001b[0m\u001b[0;34m(\u001b[0m\u001b[0;34m*\u001b[0m\u001b[0margs\u001b[0m\u001b[0;34m,\u001b[0m \u001b[0;34m**\u001b[0m\u001b[0mkwargs\u001b[0m\u001b[0;34m)\u001b[0m\u001b[0;34m\u001b[0m\u001b[0;34m\u001b[0m\u001b[0m\n\u001b[0m\u001b[1;32m    212\u001b[0m \u001b[0;34m\u001b[0m\u001b[0m\n\u001b[1;32m    213\u001b[0m         \u001b[0;32mreturn\u001b[0m \u001b[0mcast\u001b[0m\u001b[0;34m(\u001b[0m\u001b[0mF\u001b[0m\u001b[0;34m,\u001b[0m \u001b[0mwrapper\u001b[0m\u001b[0;34m)\u001b[0m\u001b[0;34m\u001b[0m\u001b[0;34m\u001b[0m\u001b[0m\n",
            "\u001b[0;32m/usr/local/lib/python3.10/dist-packages/pandas/util/_decorators.py\u001b[0m in \u001b[0;36mwrapper\u001b[0;34m(*args, **kwargs)\u001b[0m\n\u001b[1;32m    329\u001b[0m                     \u001b[0mstacklevel\u001b[0m\u001b[0;34m=\u001b[0m\u001b[0mfind_stack_level\u001b[0m\u001b[0;34m(\u001b[0m\u001b[0;34m)\u001b[0m\u001b[0;34m,\u001b[0m\u001b[0;34m\u001b[0m\u001b[0;34m\u001b[0m\u001b[0m\n\u001b[1;32m    330\u001b[0m                 )\n\u001b[0;32m--> 331\u001b[0;31m             \u001b[0;32mreturn\u001b[0m \u001b[0mfunc\u001b[0m\u001b[0;34m(\u001b[0m\u001b[0;34m*\u001b[0m\u001b[0margs\u001b[0m\u001b[0;34m,\u001b[0m \u001b[0;34m**\u001b[0m\u001b[0mkwargs\u001b[0m\u001b[0;34m)\u001b[0m\u001b[0;34m\u001b[0m\u001b[0;34m\u001b[0m\u001b[0m\n\u001b[0m\u001b[1;32m    332\u001b[0m \u001b[0;34m\u001b[0m\u001b[0m\n\u001b[1;32m    333\u001b[0m         \u001b[0;31m# error: \"Callable[[VarArg(Any), KwArg(Any)], Any]\" has no\u001b[0m\u001b[0;34m\u001b[0m\u001b[0;34m\u001b[0m\u001b[0m\n",
            "\u001b[0;32m/usr/local/lib/python3.10/dist-packages/pandas/io/parsers/readers.py\u001b[0m in \u001b[0;36mread_csv\u001b[0;34m(filepath_or_buffer, sep, delimiter, header, names, index_col, usecols, squeeze, prefix, mangle_dupe_cols, dtype, engine, converters, true_values, false_values, skipinitialspace, skiprows, skipfooter, nrows, na_values, keep_default_na, na_filter, verbose, skip_blank_lines, parse_dates, infer_datetime_format, keep_date_col, date_parser, dayfirst, cache_dates, iterator, chunksize, compression, thousands, decimal, lineterminator, quotechar, quoting, doublequote, escapechar, comment, encoding, encoding_errors, dialect, error_bad_lines, warn_bad_lines, on_bad_lines, delim_whitespace, low_memory, memory_map, float_precision, storage_options)\u001b[0m\n\u001b[1;32m    948\u001b[0m     \u001b[0mkwds\u001b[0m\u001b[0;34m.\u001b[0m\u001b[0mupdate\u001b[0m\u001b[0;34m(\u001b[0m\u001b[0mkwds_defaults\u001b[0m\u001b[0;34m)\u001b[0m\u001b[0;34m\u001b[0m\u001b[0;34m\u001b[0m\u001b[0m\n\u001b[1;32m    949\u001b[0m \u001b[0;34m\u001b[0m\u001b[0m\n\u001b[0;32m--> 950\u001b[0;31m     \u001b[0;32mreturn\u001b[0m \u001b[0m_read\u001b[0m\u001b[0;34m(\u001b[0m\u001b[0mfilepath_or_buffer\u001b[0m\u001b[0;34m,\u001b[0m \u001b[0mkwds\u001b[0m\u001b[0;34m)\u001b[0m\u001b[0;34m\u001b[0m\u001b[0;34m\u001b[0m\u001b[0m\n\u001b[0m\u001b[1;32m    951\u001b[0m \u001b[0;34m\u001b[0m\u001b[0m\n\u001b[1;32m    952\u001b[0m \u001b[0;34m\u001b[0m\u001b[0m\n",
            "\u001b[0;32m/usr/local/lib/python3.10/dist-packages/pandas/io/parsers/readers.py\u001b[0m in \u001b[0;36m_read\u001b[0;34m(filepath_or_buffer, kwds)\u001b[0m\n\u001b[1;32m    603\u001b[0m \u001b[0;34m\u001b[0m\u001b[0m\n\u001b[1;32m    604\u001b[0m     \u001b[0;31m# Create the parser.\u001b[0m\u001b[0;34m\u001b[0m\u001b[0;34m\u001b[0m\u001b[0m\n\u001b[0;32m--> 605\u001b[0;31m     \u001b[0mparser\u001b[0m \u001b[0;34m=\u001b[0m \u001b[0mTextFileReader\u001b[0m\u001b[0;34m(\u001b[0m\u001b[0mfilepath_or_buffer\u001b[0m\u001b[0;34m,\u001b[0m \u001b[0;34m**\u001b[0m\u001b[0mkwds\u001b[0m\u001b[0;34m)\u001b[0m\u001b[0;34m\u001b[0m\u001b[0;34m\u001b[0m\u001b[0m\n\u001b[0m\u001b[1;32m    606\u001b[0m \u001b[0;34m\u001b[0m\u001b[0m\n\u001b[1;32m    607\u001b[0m     \u001b[0;32mif\u001b[0m \u001b[0mchunksize\u001b[0m \u001b[0;32mor\u001b[0m \u001b[0miterator\u001b[0m\u001b[0;34m:\u001b[0m\u001b[0;34m\u001b[0m\u001b[0;34m\u001b[0m\u001b[0m\n",
            "\u001b[0;32m/usr/local/lib/python3.10/dist-packages/pandas/io/parsers/readers.py\u001b[0m in \u001b[0;36m__init__\u001b[0;34m(self, f, engine, **kwds)\u001b[0m\n\u001b[1;32m   1440\u001b[0m \u001b[0;34m\u001b[0m\u001b[0m\n\u001b[1;32m   1441\u001b[0m         \u001b[0mself\u001b[0m\u001b[0;34m.\u001b[0m\u001b[0mhandles\u001b[0m\u001b[0;34m:\u001b[0m \u001b[0mIOHandles\u001b[0m \u001b[0;34m|\u001b[0m \u001b[0;32mNone\u001b[0m \u001b[0;34m=\u001b[0m \u001b[0;32mNone\u001b[0m\u001b[0;34m\u001b[0m\u001b[0;34m\u001b[0m\u001b[0m\n\u001b[0;32m-> 1442\u001b[0;31m         \u001b[0mself\u001b[0m\u001b[0;34m.\u001b[0m\u001b[0m_engine\u001b[0m \u001b[0;34m=\u001b[0m \u001b[0mself\u001b[0m\u001b[0;34m.\u001b[0m\u001b[0m_make_engine\u001b[0m\u001b[0;34m(\u001b[0m\u001b[0mf\u001b[0m\u001b[0;34m,\u001b[0m \u001b[0mself\u001b[0m\u001b[0;34m.\u001b[0m\u001b[0mengine\u001b[0m\u001b[0;34m)\u001b[0m\u001b[0;34m\u001b[0m\u001b[0;34m\u001b[0m\u001b[0m\n\u001b[0m\u001b[1;32m   1443\u001b[0m \u001b[0;34m\u001b[0m\u001b[0m\n\u001b[1;32m   1444\u001b[0m     \u001b[0;32mdef\u001b[0m \u001b[0mclose\u001b[0m\u001b[0;34m(\u001b[0m\u001b[0mself\u001b[0m\u001b[0;34m)\u001b[0m \u001b[0;34m->\u001b[0m \u001b[0;32mNone\u001b[0m\u001b[0;34m:\u001b[0m\u001b[0;34m\u001b[0m\u001b[0;34m\u001b[0m\u001b[0m\n",
            "\u001b[0;32m/usr/local/lib/python3.10/dist-packages/pandas/io/parsers/readers.py\u001b[0m in \u001b[0;36m_make_engine\u001b[0;34m(self, f, engine)\u001b[0m\n\u001b[1;32m   1733\u001b[0m                 \u001b[0;32mif\u001b[0m \u001b[0;34m\"b\"\u001b[0m \u001b[0;32mnot\u001b[0m \u001b[0;32min\u001b[0m \u001b[0mmode\u001b[0m\u001b[0;34m:\u001b[0m\u001b[0;34m\u001b[0m\u001b[0;34m\u001b[0m\u001b[0m\n\u001b[1;32m   1734\u001b[0m                     \u001b[0mmode\u001b[0m \u001b[0;34m+=\u001b[0m \u001b[0;34m\"b\"\u001b[0m\u001b[0;34m\u001b[0m\u001b[0;34m\u001b[0m\u001b[0m\n\u001b[0;32m-> 1735\u001b[0;31m             self.handles = get_handle(\n\u001b[0m\u001b[1;32m   1736\u001b[0m                 \u001b[0mf\u001b[0m\u001b[0;34m,\u001b[0m\u001b[0;34m\u001b[0m\u001b[0;34m\u001b[0m\u001b[0m\n\u001b[1;32m   1737\u001b[0m                 \u001b[0mmode\u001b[0m\u001b[0;34m,\u001b[0m\u001b[0;34m\u001b[0m\u001b[0;34m\u001b[0m\u001b[0m\n",
            "\u001b[0;32m/usr/local/lib/python3.10/dist-packages/pandas/io/common.py\u001b[0m in \u001b[0;36mget_handle\u001b[0;34m(path_or_buf, mode, encoding, compression, memory_map, is_text, errors, storage_options)\u001b[0m\n\u001b[1;32m    854\u001b[0m         \u001b[0;32mif\u001b[0m \u001b[0mioargs\u001b[0m\u001b[0;34m.\u001b[0m\u001b[0mencoding\u001b[0m \u001b[0;32mand\u001b[0m \u001b[0;34m\"b\"\u001b[0m \u001b[0;32mnot\u001b[0m \u001b[0;32min\u001b[0m \u001b[0mioargs\u001b[0m\u001b[0;34m.\u001b[0m\u001b[0mmode\u001b[0m\u001b[0;34m:\u001b[0m\u001b[0;34m\u001b[0m\u001b[0;34m\u001b[0m\u001b[0m\n\u001b[1;32m    855\u001b[0m             \u001b[0;31m# Encoding\u001b[0m\u001b[0;34m\u001b[0m\u001b[0;34m\u001b[0m\u001b[0m\n\u001b[0;32m--> 856\u001b[0;31m             handle = open(\n\u001b[0m\u001b[1;32m    857\u001b[0m                 \u001b[0mhandle\u001b[0m\u001b[0;34m,\u001b[0m\u001b[0;34m\u001b[0m\u001b[0;34m\u001b[0m\u001b[0m\n\u001b[1;32m    858\u001b[0m                 \u001b[0mioargs\u001b[0m\u001b[0;34m.\u001b[0m\u001b[0mmode\u001b[0m\u001b[0;34m,\u001b[0m\u001b[0;34m\u001b[0m\u001b[0;34m\u001b[0m\u001b[0m\n",
            "\u001b[0;31mFileNotFoundError\u001b[0m: [Errno 2] No such file or directory: 'C:\\\\Users\\\\shanta\\\\Downloads\\\\train.csv'"
          ]
        }
      ],
      "source": [
        "train=pd.read_csv(\"C:\\\\Users\\\\shanta\\\\Downloads\\\\train.csv\")\n",
        "test=pd.read_csv(\"C:\\\\Users\\\\shanta\\\\Downloads\\\\test.csv\")"
      ]
    },
    {
      "cell_type": "code",
      "execution_count": null,
      "id": "71e0cb41",
      "metadata": {
        "id": "71e0cb41"
      },
      "outputs": [],
      "source": [
        "train_orignal=train.copy()\n",
        "test_orignal=test.copy()"
      ]
    },
    {
      "cell_type": "code",
      "execution_count": null,
      "id": "a0955f98",
      "metadata": {
        "id": "a0955f98"
      },
      "outputs": [],
      "source": [
        "train.columns"
      ]
    },
    {
      "cell_type": "code",
      "execution_count": null,
      "id": "2f8c1171",
      "metadata": {
        "id": "2f8c1171"
      },
      "outputs": [],
      "source": [
        "test.columns"
      ]
    },
    {
      "cell_type": "code",
      "execution_count": null,
      "id": "b1f4f7a3",
      "metadata": {
        "id": "b1f4f7a3"
      },
      "outputs": [],
      "source": [
        "train.dtypes"
      ]
    },
    {
      "cell_type": "code",
      "execution_count": null,
      "id": "48a51655",
      "metadata": {
        "id": "48a51655"
      },
      "outputs": [],
      "source": [
        "print(\"TRAINING DATA SHAPE\", train.shape)\n",
        "train.head()\n"
      ]
    },
    {
      "cell_type": "code",
      "execution_count": null,
      "id": "a90bbdc1",
      "metadata": {
        "id": "a90bbdc1"
      },
      "outputs": [],
      "source": [
        "print(\"TEST DATA SHAPE\",test.shape)"
      ]
    },
    {
      "cell_type": "code",
      "execution_count": null,
      "id": "4ae13ccb",
      "metadata": {
        "id": "4ae13ccb"
      },
      "outputs": [],
      "source": [
        "train['Loan_Status'].count()"
      ]
    },
    {
      "cell_type": "code",
      "execution_count": null,
      "id": "4e7a3059",
      "metadata": {
        "id": "4e7a3059"
      },
      "outputs": [],
      "source": [
        "train[\"Loan_Status\"].value_counts()"
      ]
    },
    {
      "cell_type": "code",
      "execution_count": null,
      "id": "6949a0b2",
      "metadata": {
        "id": "6949a0b2"
      },
      "outputs": [],
      "source": [
        "train[\"Loan_Status\"].value_counts(normalize=True)*100"
      ]
    },
    {
      "cell_type": "code",
      "execution_count": null,
      "id": "46d4ed14",
      "metadata": {
        "id": "46d4ed14"
      },
      "outputs": [],
      "source": [
        "train[\"Loan_Status\"].value_counts(normalize=True).plot.bar(title=\"loan_status\")"
      ]
    },
    {
      "cell_type": "code",
      "execution_count": null,
      "id": "565b850f",
      "metadata": {
        "id": "565b850f"
      },
      "outputs": [],
      "source": [
        "train['Gender'].count()"
      ]
    },
    {
      "cell_type": "code",
      "execution_count": null,
      "id": "511d6de2",
      "metadata": {
        "id": "511d6de2"
      },
      "outputs": [],
      "source": [
        "train['Gender'].value_counts()"
      ]
    },
    {
      "cell_type": "code",
      "execution_count": null,
      "id": "e34f2769",
      "metadata": {
        "id": "e34f2769"
      },
      "outputs": [],
      "source": [
        "train['Gender'].value_counts(normalize=True)*100"
      ]
    },
    {
      "cell_type": "code",
      "execution_count": null,
      "id": "06755520",
      "metadata": {
        "id": "06755520"
      },
      "outputs": [],
      "source": [
        "train['Gender'].value_counts(normalize=True).plot.bar(title=\"Gender\")"
      ]
    },
    {
      "cell_type": "code",
      "execution_count": null,
      "id": "e71408a1",
      "metadata": {
        "id": "e71408a1"
      },
      "outputs": [],
      "source": [
        "train[\"Married\"].count()"
      ]
    },
    {
      "cell_type": "code",
      "execution_count": null,
      "id": "2e6db518",
      "metadata": {
        "id": "2e6db518"
      },
      "outputs": [],
      "source": [
        "train[\"Married\"].value_counts()"
      ]
    },
    {
      "cell_type": "code",
      "execution_count": null,
      "id": "da51dfd9",
      "metadata": {
        "id": "da51dfd9"
      },
      "outputs": [],
      "source": [
        "train[\"Married\"].value_counts(normalize=True)*100"
      ]
    },
    {
      "cell_type": "code",
      "execution_count": null,
      "id": "785468eb",
      "metadata": {
        "id": "785468eb"
      },
      "outputs": [],
      "source": [
        "train[\"Married\"].value_counts(normalize=True).plot.bar(title=\"married_status\")"
      ]
    },
    {
      "cell_type": "code",
      "execution_count": null,
      "id": "6cf1778c",
      "metadata": {
        "id": "6cf1778c"
      },
      "outputs": [],
      "source": [
        "train[\"Self_Employed\"].count()"
      ]
    },
    {
      "cell_type": "code",
      "execution_count": null,
      "id": "1c25257d",
      "metadata": {
        "id": "1c25257d"
      },
      "outputs": [],
      "source": [
        "train[\"Self_Employed\"].value_counts()"
      ]
    },
    {
      "cell_type": "code",
      "execution_count": null,
      "id": "e79ba952",
      "metadata": {
        "id": "e79ba952"
      },
      "outputs": [],
      "source": [
        "train[\"Self_Employed\"].value_counts(normalize=True)*100"
      ]
    },
    {
      "cell_type": "code",
      "execution_count": null,
      "id": "54d7e9e6",
      "metadata": {
        "id": "54d7e9e6"
      },
      "outputs": [],
      "source": [
        "train[\"Self_Employed\"].value_counts(normalize=True).plot.bar(title=\"Self_employed_Status\")"
      ]
    },
    {
      "cell_type": "code",
      "execution_count": null,
      "id": "784b6c78",
      "metadata": {
        "id": "784b6c78"
      },
      "outputs": [],
      "source": [
        "train[\"Credit_History\"].count()"
      ]
    },
    {
      "cell_type": "code",
      "execution_count": null,
      "id": "a856d81d",
      "metadata": {
        "id": "a856d81d"
      },
      "outputs": [],
      "source": [
        "train[\"Credit_History\"].value_counts(normalize=True)*100"
      ]
    },
    {
      "cell_type": "code",
      "execution_count": null,
      "id": "a3ca7f80",
      "metadata": {
        "id": "a3ca7f80"
      },
      "outputs": [],
      "source": [
        "train[\"Credit_History\"].value_counts(normalize=True).plot.bar(title=\"Credit_History\")"
      ]
    },
    {
      "cell_type": "code",
      "execution_count": null,
      "id": "74cc78b6",
      "metadata": {
        "id": "74cc78b6"
      },
      "outputs": [],
      "source": [
        "train[\"Dependents\"].count()"
      ]
    },
    {
      "cell_type": "code",
      "execution_count": null,
      "id": "d6f97959",
      "metadata": {
        "id": "d6f97959"
      },
      "outputs": [],
      "source": [
        "train[\"Dependents\"].value_counts()"
      ]
    },
    {
      "cell_type": "code",
      "execution_count": null,
      "id": "820e448d",
      "metadata": {
        "id": "820e448d"
      },
      "outputs": [],
      "source": [
        "train[\"Dependents\"].value_counts(normalize=True)*100"
      ]
    },
    {
      "cell_type": "code",
      "execution_count": null,
      "id": "c7c03475",
      "metadata": {
        "id": "c7c03475"
      },
      "outputs": [],
      "source": [
        "train[\"Dependents\"].value_counts(normalize=True).plot.bar(title='Dependents')"
      ]
    },
    {
      "cell_type": "code",
      "execution_count": null,
      "id": "ff2d30bd",
      "metadata": {
        "id": "ff2d30bd"
      },
      "outputs": [],
      "source": [
        "train[\"Education\"].count()"
      ]
    },
    {
      "cell_type": "code",
      "execution_count": null,
      "id": "bb6ba223",
      "metadata": {
        "id": "bb6ba223"
      },
      "outputs": [],
      "source": [
        "train[\"Education\"].value_counts(normalize=True)*100"
      ]
    },
    {
      "cell_type": "code",
      "execution_count": null,
      "id": "7a68ede7",
      "metadata": {
        "id": "7a68ede7"
      },
      "outputs": [],
      "source": [
        "train[\"Education\"].value_counts(normalize=True).plot.bar(title='Education')"
      ]
    },
    {
      "cell_type": "code",
      "execution_count": null,
      "id": "001cc5ea",
      "metadata": {
        "id": "001cc5ea"
      },
      "outputs": [],
      "source": [
        "train[\"Property_Area\"].count()"
      ]
    },
    {
      "cell_type": "code",
      "execution_count": null,
      "id": "3d819c65",
      "metadata": {
        "id": "3d819c65"
      },
      "outputs": [],
      "source": [
        "train[\"Property_Area\"].value_counts(normalize=True)"
      ]
    },
    {
      "cell_type": "code",
      "execution_count": null,
      "id": "6f0648e5",
      "metadata": {
        "id": "6f0648e5"
      },
      "outputs": [],
      "source": [
        "train[\"Property_Area\"].value_counts(normalize=True).plot.bar(title=\"property_Area\")"
      ]
    },
    {
      "cell_type": "code",
      "execution_count": null,
      "id": "328be46a",
      "metadata": {
        "id": "328be46a"
      },
      "outputs": [],
      "source": [
        "train['ApplicantIncome'].min()"
      ]
    },
    {
      "cell_type": "code",
      "execution_count": null,
      "id": "d34e05d5",
      "metadata": {
        "id": "d34e05d5"
      },
      "outputs": [],
      "source": [
        "\n",
        "sns.displot(train[\"ApplicantIncome\"]);\n",
        "plt.show()\n",
        "\n",
        "train[\"ApplicantIncome\"].plot.box()\n",
        "plt.show()"
      ]
    },
    {
      "cell_type": "code",
      "execution_count": null,
      "id": "90982eca",
      "metadata": {
        "id": "90982eca"
      },
      "outputs": [],
      "source": [
        "train.boxplot(column=\"ApplicantIncome\",by=\"Education\")\n",
        "plt.title(\"\")"
      ]
    },
    {
      "cell_type": "code",
      "execution_count": null,
      "id": "4cb8e501",
      "metadata": {
        "id": "4cb8e501"
      },
      "outputs": [],
      "source": [
        "sns.displot(train[\"CoapplicantIncome\"])\n",
        "plt.show()\n",
        "plt.boxplot(train[\"CoapplicantIncome\"])\n",
        "plt.show()"
      ]
    },
    {
      "cell_type": "code",
      "execution_count": null,
      "id": "f7c3b6ef",
      "metadata": {
        "id": "f7c3b6ef"
      },
      "outputs": [],
      "source": [
        "sns.displot(train[\"LoanAmount\"])\n",
        "plt.show()\n",
        "train[\"LoanAmount\"].plot.box()\n",
        "plt.show()"
      ]
    },
    {
      "cell_type": "code",
      "execution_count": null,
      "id": "05f9f609",
      "metadata": {
        "id": "05f9f609"
      },
      "outputs": [],
      "source": [
        "plt.figure(1)\n",
        "plt.subplot(121)\n",
        "df = train.dropna()\n",
        "sns.distplot(df[\"Loan_Amount_Term\"]);\n",
        "plt.show()\n",
        "df[\"Loan_Amount_Term\"].plot.box()\n",
        "plt.show()"
      ]
    },
    {
      "cell_type": "code",
      "execution_count": null,
      "id": "f9a61041",
      "metadata": {
        "id": "f9a61041"
      },
      "outputs": [],
      "source": [
        "print(pd.crosstab(train[\"Gender\"],train[\"Loan_Status\"]))\n",
        "Gender=pd.crosstab(train[\"Gender\"],train[\"Loan_Status\"])\n",
        "Gender.div(Gender.sum(1),axis=0).plot.bar(stacked=True)\n",
        "plt.ylabel(\"percentage\")\n",
        ""
      ]
    },
    {
      "cell_type": "code",
      "execution_count": null,
      "id": "00dc6664",
      "metadata": {
        "id": "00dc6664"
      },
      "outputs": [],
      "source": [
        "print(pd.crosstab(train[\"Married\"],train[\"Loan_Status\"]))\n",
        "Gender=pd.crosstab(train[\"Married\"],train[\"Loan_Status\"])\n",
        "Gender.div(Gender.sum(1),axis=0).plot.bar(stacked=True)\n",
        "plt.ylabel(\"percentage\")\n",
        ""
      ]
    },
    {
      "cell_type": "code",
      "execution_count": null,
      "id": "76bc3558",
      "metadata": {
        "id": "76bc3558"
      },
      "outputs": [],
      "source": [
        "print(pd.crosstab(train[\"Dependents\"],train[\"Loan_Status\"]))\n",
        "Gender=pd.crosstab(train[\"Dependents\"],train[\"Loan_Status\"])\n",
        "Gender.div(Gender.sum(1),axis=0).plot.bar(stacked=True)\n",
        "plt.ylabel(\"percentage\")\n",
        ""
      ]
    },
    {
      "cell_type": "code",
      "execution_count": null,
      "id": "6c13de64",
      "metadata": {
        "id": "6c13de64"
      },
      "outputs": [],
      "source": [
        "print(pd.crosstab(train[\"Self_Employed\"],train[\"Loan_Status\"]))\n",
        "Gender=pd.crosstab(train[\"Self_Employed\"],train[\"Loan_Status\"])\n",
        "Gender.div(Gender.sum(1),axis=0).plot.bar(stacked=True)\n",
        "plt.ylabel(\"percentage\")\n",
        ""
      ]
    },
    {
      "cell_type": "code",
      "execution_count": null,
      "id": "b0170da8",
      "metadata": {
        "id": "b0170da8"
      },
      "outputs": [],
      "source": [
        "print(pd.crosstab(train[\"Credit_History\"],train[\"Loan_Status\"]))\n",
        "Gender=pd.crosstab(train[\"Credit_History\"],train[\"Loan_Status\"])\n",
        "Gender.div(Gender.sum(1),axis=0).plot.bar(stacked=True)\n",
        "plt.ylabel(\"percentage\")\n",
        ""
      ]
    },
    {
      "cell_type": "code",
      "execution_count": null,
      "id": "e7fa7c07",
      "metadata": {
        "id": "e7fa7c07"
      },
      "outputs": [],
      "source": [
        "print(pd.crosstab(train[\"Property_Area\"],train[\"Loan_Status\"]))\n",
        "Gender=pd.crosstab(train[\"Property_Area\"],train[\"Loan_Status\"])\n",
        "Gender.div(Gender.sum(1),axis=0).plot.bar(stacked=True)\n",
        "plt.ylabel(\"percentage\")\n",
        ""
      ]
    },
    {
      "cell_type": "code",
      "execution_count": null,
      "id": "aec8e00d",
      "metadata": {
        "id": "aec8e00d"
      },
      "outputs": [],
      "source": [
        "train.groupby(\"Loan_Status\")[\"ApplicantIncome\"].mean().plot.bar()"
      ]
    },
    {
      "cell_type": "code",
      "execution_count": null,
      "id": "27f45af8",
      "metadata": {
        "id": "27f45af8"
      },
      "outputs": [],
      "source": [
        "bins=[0,2500,4500,6000,81000]\n",
        "group=[\"low\",'average','high','very_high']\n",
        "train[\"Bin_Income\"]=pd.cut(train.dropna()[\"ApplicantIncome\"],bins,labels=group)"
      ]
    },
    {
      "cell_type": "code",
      "execution_count": null,
      "id": "6f41871b",
      "metadata": {
        "id": "6f41871b"
      },
      "outputs": [],
      "source": [
        "print(pd.crosstab(train[\"Bin_Income\"],train[\"Loan_Status\"]))\n",
        "x=pd.crosstab(train[\"Bin_Income\"],train[\"Loan_Status\"])\n",
        "x.div(x.sum(1),axis=0).plot.bar(stacked=True)\n",
        "plt.xlabel(\"applicantIncome\")\n",
        "plt.ylabel(\"percentage\")"
      ]
    },
    {
      "cell_type": "code",
      "execution_count": null,
      "id": "38109a0e",
      "metadata": {
        "id": "38109a0e"
      },
      "outputs": [],
      "source": [
        "\n",
        "bins=[0,1000,3000,42000]\n",
        "group=['low','average','high']\n",
        "train['coapplicant_income_bin']=pd.cut(df['CoapplicantIncome'],bins,labels=group)"
      ]
    },
    {
      "cell_type": "code",
      "execution_count": null,
      "id": "f1aed2a3",
      "metadata": {
        "id": "f1aed2a3"
      },
      "outputs": [],
      "source": [
        "print(pd.crosstab(train['coapplicant_income_bin'],train['Loan_Status']))"
      ]
    },
    {
      "cell_type": "code",
      "execution_count": null,
      "id": "b97704d7",
      "metadata": {
        "id": "b97704d7"
      },
      "outputs": [],
      "source": [
        "x=pd.crosstab(train[\"coapplicant_income_bin\"],train[\"Loan_Status\"])\n",
        "x.div(x.sum(1),axis=0).plot.bar(stacked=True)\n",
        "plt.ylabel('percentage')"
      ]
    },
    {
      "cell_type": "code",
      "execution_count": null,
      "id": "19133a15",
      "metadata": {
        "id": "19133a15"
      },
      "outputs": [],
      "source": [
        "train['total_income']=train['ApplicantIncome']+train['CoapplicantIncome']"
      ]
    },
    {
      "cell_type": "code",
      "execution_count": null,
      "id": "a0efa36f",
      "metadata": {
        "id": "a0efa36f"
      },
      "outputs": [],
      "source": [
        "bins=[0,2500,4000,6000,81000]\n",
        "group=[\"low\",\"average\",\"high\",\"very_high\"]\n",
        "train['total_income_bin']=pd.cut(train['total_income'],bins,labels=group)"
      ]
    },
    {
      "cell_type": "code",
      "execution_count": null,
      "id": "052cf458",
      "metadata": {
        "id": "052cf458"
      },
      "outputs": [],
      "source": [
        "print(pd.crosstab(train['total_income_bin'],train['Loan_Status']))\n",
        "x=pd.crosstab(train['total_income_bin'],train['Loan_Status'])\n",
        "x.div(x.sum(1),axis=0).plot.bar(stacked=True)"
      ]
    },
    {
      "cell_type": "code",
      "execution_count": null,
      "id": "ab6066da",
      "metadata": {
        "id": "ab6066da"
      },
      "outputs": [],
      "source": [
        "bins = [0,100,200,700]\n",
        "group=['Low','Average','High']\n",
        "train[\"LoanAmount_bin\"]=pd.cut(df[\"LoanAmount\"],bins,labels=group)"
      ]
    },
    {
      "cell_type": "code",
      "execution_count": null,
      "id": "c9b7c593",
      "metadata": {
        "id": "c9b7c593"
      },
      "outputs": [],
      "source": [
        "print(pd.crosstab(train['LoanAmount_bin'],train[\"Loan_Status\"]))\n",
        "x=pd.crosstab(train['LoanAmount_bin'],train[\"Loan_Status\"])\n",
        "x.div(x.sum(1),axis=0).plot.bar(stacked=True)\n"
      ]
    },
    {
      "cell_type": "code",
      "execution_count": null,
      "id": "cc7f34e5",
      "metadata": {
        "id": "cc7f34e5"
      },
      "outputs": [],
      "source": [
        "train['Dependents'].replace('3+',3,inplace=True)\n",
        "test['Dependents'].replace('3+',3,inplace=True)\n",
        "train['Loan_Status'].replace('N', 0,inplace=True)\n",
        "train['Loan_Status'].replace('Y', 1,inplace=True)"
      ]
    },
    {
      "cell_type": "code",
      "execution_count": null,
      "id": "6465618e",
      "metadata": {
        "id": "6465618e"
      },
      "outputs": [],
      "source": [
        "train=train.drop(['LoanAmount_bin','total_income','total_income_bin',\"Bin_Income\",'coapplicant_income_bin'],axis=1)"
      ]
    },
    {
      "cell_type": "code",
      "execution_count": null,
      "id": "d1d2e4ba",
      "metadata": {
        "id": "d1d2e4ba"
      },
      "outputs": [],
      "source": [
        "matrix = train.corr()\n",
        "print(matrix)\n",
        "plt.subplots(figsize=(12,14))\n",
        "sns.heatmap(matrix,annot=True,cmap='BuPu',square=True);"
      ]
    },
    {
      "cell_type": "code",
      "execution_count": null,
      "id": "36894070",
      "metadata": {
        "id": "36894070"
      },
      "outputs": [],
      "source": [
        "train.isnull().sum()"
      ]
    },
    {
      "cell_type": "code",
      "execution_count": null,
      "id": "41b73aa7",
      "metadata": {
        "id": "41b73aa7"
      },
      "outputs": [],
      "source": [
        "train[\"Gender\"].fillna(train[\"Gender\"].mode()[0],inplace=True)\n",
        "train[\"Married\"].fillna(train[\"Married\"].mode()[0],inplace=True)\n",
        "train['Dependents'].fillna(train[\"Dependents\"].mode()[0],inplace=True)\n",
        "train[\"Self_Employed\"].fillna(train[\"Self_Employed\"].mode()[0],inplace=True)\n",
        "train[\"Credit_History\"].fillna(train[\"Credit_History\"].mode()[0],inplace=True)"
      ]
    },
    {
      "cell_type": "code",
      "execution_count": null,
      "id": "beb2cc2e",
      "metadata": {
        "id": "beb2cc2e"
      },
      "outputs": [],
      "source": [
        "train[\"Loan_Amount_Term\"].fillna(train[\"Loan_Amount_Term\"].mode()[0],inplace=True)\n",
        "train[\"LoanAmount\"].fillna(train[\"LoanAmount\"].median(),inplace=True)"
      ]
    },
    {
      "cell_type": "code",
      "execution_count": null,
      "id": "54f21933",
      "metadata": {
        "id": "54f21933"
      },
      "outputs": [],
      "source": [
        "train.isnull().sum()"
      ]
    },
    {
      "cell_type": "code",
      "execution_count": null,
      "id": "83fc7c87",
      "metadata": {
        "id": "83fc7c87"
      },
      "outputs": [],
      "source": [
        "test.isnull().sum()"
      ]
    },
    {
      "cell_type": "code",
      "execution_count": null,
      "id": "5092e778",
      "metadata": {
        "id": "5092e778"
      },
      "outputs": [],
      "source": [
        "test['Gender'].fillna(test[\"Gender\"].mode()[0],inplace=True)\n",
        "test['Dependents'].fillna(test[\"Dependents\"].mode()[0],inplace=True)\n",
        "test['Self_Employed'].fillna(test[\"Self_Employed\"].mode()[0],inplace=True)\n",
        "test['LoanAmount'].fillna(test[\"LoanAmount\"].median(),inplace=True)\n",
        "test['Loan_Amount_Term'].fillna(test[\"Loan_Amount_Term\"].mode()[0],inplace=True)\n",
        "test['Credit_History'].fillna(test[\"Credit_History\"].mode()[0],inplace=True)"
      ]
    },
    {
      "cell_type": "code",
      "execution_count": null,
      "id": "d3da3dcf",
      "metadata": {
        "id": "d3da3dcf"
      },
      "outputs": [],
      "source": [
        "test.isnull().sum()"
      ]
    },
    {
      "cell_type": "code",
      "execution_count": null,
      "id": "c99a7bb5",
      "metadata": {
        "id": "c99a7bb5"
      },
      "outputs": [],
      "source": [
        "sns.distplot(train[\"LoanAmount\"])"
      ]
    },
    {
      "cell_type": "code",
      "execution_count": null,
      "id": "bdfa04bc",
      "metadata": {
        "id": "bdfa04bc"
      },
      "outputs": [],
      "source": [
        "train[\"LoanAmount\"].hist(bins=20)"
      ]
    },
    {
      "cell_type": "code",
      "execution_count": null,
      "id": "33bc5e05",
      "metadata": {
        "id": "33bc5e05"
      },
      "outputs": [],
      "source": [
        "train[\"LoanAmount_log\"]=np.log(train[\"LoanAmount\"])\n",
        "test[\"LoanAmount_log\"]=np.log(test[\"LoanAmount\"])\n",
        "sns.distplot(train[\"LoanAmount_log\"])"
      ]
    },
    {
      "cell_type": "code",
      "execution_count": null,
      "id": "1cb30bad",
      "metadata": {
        "id": "1cb30bad"
      },
      "outputs": [],
      "source": [
        "train[\"Total_Income\"]=train[\"ApplicantIncome\"]+train[\"CoapplicantIncome\"]\n",
        "test[\"Total_Income\"]=test[\"ApplicantIncome\"]+test[\"CoapplicantIncome\"]"
      ]
    },
    {
      "cell_type": "code",
      "execution_count": null,
      "id": "fa2d5654",
      "metadata": {
        "id": "fa2d5654"
      },
      "outputs": [],
      "source": [
        "train[\"Total_Income\"].head()"
      ]
    },
    {
      "cell_type": "code",
      "execution_count": null,
      "id": "21dcd1f7",
      "metadata": {
        "id": "21dcd1f7"
      },
      "outputs": [],
      "source": [
        "sns.distplot(train[\"Total_Income\"])"
      ]
    },
    {
      "cell_type": "code",
      "execution_count": null,
      "id": "8f0b1cbf",
      "metadata": {
        "id": "8f0b1cbf"
      },
      "outputs": [],
      "source": [
        "train[\"TotalIncome_Log\"]=np.log(train[\"Total_Income\"])"
      ]
    },
    {
      "cell_type": "code",
      "execution_count": null,
      "id": "1e72031b",
      "metadata": {
        "id": "1e72031b"
      },
      "outputs": [],
      "source": [
        "sns.distplot(train['TotalIncome_Log'])"
      ]
    },
    {
      "cell_type": "code",
      "execution_count": null,
      "id": "b646918c",
      "metadata": {
        "id": "b646918c"
      },
      "outputs": [],
      "source": [
        "train[\"EMI\"]=train[\"LoanAmount\"]/train[\"Loan_Amount_Term\"]\n",
        "test[\"EMI\"]=test[\"LoanAmount\"]/test[\"Loan_Amount_Term\"]"
      ]
    },
    {
      "cell_type": "code",
      "execution_count": null,
      "id": "0ce195a3",
      "metadata": {
        "id": "0ce195a3"
      },
      "outputs": [],
      "source": [
        "sns.distplot(train[\"EMI\"])"
      ]
    },
    {
      "cell_type": "code",
      "execution_count": null,
      "id": "2effeebc",
      "metadata": {
        "id": "2effeebc"
      },
      "outputs": [],
      "source": [
        "train=train.drop([\"ApplicantIncome\",\"CoapplicantIncome\",\"LoanAmount\",\"Loan_Amount_Term\",\"Loan_ID\"],axis=1)"
      ]
    },
    {
      "cell_type": "code",
      "execution_count": null,
      "id": "2b51ddd5",
      "metadata": {
        "id": "2b51ddd5"
      },
      "outputs": [],
      "source": [
        "test=test.drop([\"ApplicantIncome\",\"CoapplicantIncome\",\"LoanAmount\",\"Loan_Amount_Term\",\"Loan_ID\"],axis=1)"
      ]
    },
    {
      "cell_type": "code",
      "execution_count": null,
      "id": "e20fe9d4",
      "metadata": {
        "id": "e20fe9d4"
      },
      "outputs": [],
      "source": [
        "# train=train.drop(\"Loan_ID\",axis=1)\n",
        "# test=test.drop(\"Loan_ID\",axis=1)\n",
        "train.head()"
      ]
    },
    {
      "cell_type": "code",
      "execution_count": null,
      "id": "fcc8f873",
      "metadata": {
        "id": "fcc8f873"
      },
      "outputs": [],
      "source": [
        "test.head()"
      ]
    },
    {
      "cell_type": "code",
      "execution_count": null,
      "id": "2a2b225c",
      "metadata": {
        "id": "2a2b225c"
      },
      "outputs": [],
      "source": [
        "    X=train.drop(train['Loan_Status'])\n",
        "    y=train['Loan_Status']"
      ]
    },
    {
      "cell_type": "code",
      "execution_count": null,
      "id": "0de79ff0",
      "metadata": {
        "id": "0de79ff0"
      },
      "outputs": [],
      "source": [
        "y.head(2)"
      ]
    },
    {
      "cell_type": "code",
      "execution_count": null,
      "id": "51b1eb8e",
      "metadata": {
        "id": "51b1eb8e"
      },
      "outputs": [],
      "source": [
        "X=pd.get_dummies(train)\n",
        "X.head()"
      ]
    },
    {
      "cell_type": "code",
      "execution_count": null,
      "id": "5559dca2",
      "metadata": {
        "id": "5559dca2"
      },
      "outputs": [],
      "source": [
        "train=pd.get_dummies(train)\n",
        "test=pd.get_dummies(test)"
      ]
    },
    {
      "cell_type": "code",
      "execution_count": null,
      "id": "a0df025d",
      "metadata": {
        "id": "a0df025d"
      },
      "outputs": [],
      "source": [
        "from sklearn.model_selection import train_test_split\n",
        "x_train,x_test,y_train,y_test=train_test_split(X,y,test_size=0.3,random_state=1)"
      ]
    },
    {
      "cell_type": "code",
      "execution_count": null,
      "id": "18d1b6f3",
      "metadata": {
        "id": "18d1b6f3"
      },
      "outputs": [],
      "source": [
        "from sklearn.linear_model import LogisticRegression\n",
        "from sklearn.metrics import accuracy_score"
      ]
    },
    {
      "cell_type": "code",
      "execution_count": null,
      "id": "59cac711",
      "metadata": {
        "id": "59cac711"
      },
      "outputs": [],
      "source": [
        "logistic_model=LogisticRegression(random_state=1)"
      ]
    },
    {
      "cell_type": "code",
      "execution_count": null,
      "id": "05a7d751",
      "metadata": {
        "id": "05a7d751"
      },
      "outputs": [],
      "source": [
        "logistic_model.fit(x_train,y_train)"
      ]
    },
    {
      "cell_type": "code",
      "execution_count": null,
      "id": "46b0d1f1",
      "metadata": {
        "id": "46b0d1f1"
      },
      "outputs": [],
      "source": [
        "pred_cv_logistic=logistic_model.predict(x_test)\n"
      ]
    },
    {
      "cell_type": "code",
      "execution_count": null,
      "id": "2aa75d6b",
      "metadata": {
        "id": "2aa75d6b"
      },
      "outputs": [],
      "source": [
        "score_logistic =accuracy_score(pred_cv_logistic,y_test)*100"
      ]
    },
    {
      "cell_type": "code",
      "execution_count": null,
      "id": "3003f0d5",
      "metadata": {
        "id": "3003f0d5"
      },
      "outputs": [],
      "source": [
        "score_logistic"
      ]
    },
    {
      "cell_type": "code",
      "execution_count": null,
      "id": "31d9178b",
      "metadata": {
        "id": "31d9178b"
      },
      "outputs": [],
      "source": [
        "from sklearn.tree import DecisionTreeClassifier"
      ]
    },
    {
      "cell_type": "code",
      "execution_count": null,
      "id": "c4301019",
      "metadata": {
        "id": "c4301019"
      },
      "outputs": [],
      "source": [
        "pred_cv_tree=tree_model.predict(x_test)"
      ]
    },
    {
      "cell_type": "code",
      "execution_count": null,
      "id": "5aed90d2",
      "metadata": {
        "id": "5aed90d2"
      },
      "outputs": [],
      "source": [
        "score_tree =accuracy_score(pred_cv_tree,y_test)*100"
      ]
    },
    {
      "cell_type": "code",
      "execution_count": null,
      "id": "11045a6e",
      "metadata": {
        "id": "11045a6e"
      },
      "outputs": [],
      "source": [
        "score_tree"
      ]
    },
    {
      "cell_type": "code",
      "execution_count": null,
      "id": "cdef6d7f",
      "metadata": {
        "id": "cdef6d7f"
      },
      "outputs": [],
      "source": []
    }
  ],
  "metadata": {
    "kernelspec": {
      "display_name": "Python 3 (ipykernel)",
      "language": "python",
      "name": "python3"
    },
    "language_info": {
      "codemirror_mode": {
        "name": "ipython",
        "version": 3
      },
      "file_extension": ".py",
      "mimetype": "text/x-python",
      "name": "python",
      "nbconvert_exporter": "python",
      "pygments_lexer": "ipython3",
      "version": "3.9.7"
    },
    "colab": {
      "provenance": []
    }
  },
  "nbformat": 4,
  "nbformat_minor": 5
}